{
 "cells": [
  {
   "cell_type": "markdown",
   "metadata": {
    "id": "Jtlrzx_REu_p"
   },
   "source": [
    "# Variational Inference\n",
    "For many models of practical interest, evaluating the posterior distribution will be intractable either because of the high dimensionality of the latent space or a complex form of the posterior distribution. For such cases, approximation schemes are handy in deriving a good lower or upper bound on the posterior distribution. The approximation schemes fall into 2 categories - deterministic and stochastic. Stochastic methods involve sampling while deterministic methods are based on analytical approximations to the posterior. In this section, we review variational approximations to the posterior."
   ]
  },
  {
   "cell_type": "markdown",
   "metadata": {
    "id": "ps0KmFiEFXMp"
   },
   "source": [
    "Suppose we have a fully Bayesian model with a set of $N$ observed variables $X = \\{x_1,x_2,\\ldots,x_N \\}$ and latent variables $Z = \\{z_1,z_2,\\ldots,z_N \\}$. Assume our model specifies the joint distribution $p(X,Z)$ and our goal is to find an approximation for the conditional $p(Z|X)$ which enables us to make predictions on $X$. We can express the log marginal likelihood of the data as: $ \\log {p(X)} = \\mathcal{L}(q) + KL(q||p) $ where\n",
    "\n",
    "$$ \\begin{align} \\mathcal{L}(q) &= \\int {q(Z) \\log{\\frac{p(X,Z)}{q(Z)}}dZ} \\\\\n",
    "KL(q||p) &= \\int{q(Z) \\log{\\frac{p(Z|X)}{q(Z)}}dZ}\\end{align}$$\n",
    "\n",
    "The variational inference proceeds by maximizing the lower bound $\\mathcal{L}(q)$ with respect to the distribution $q(Z)$ which is equivalent to minimizing the KL divergence. The KL divergence is minimum (equals 0) when $q(Z) = p(Z|X)$. When the posterior $p(Z|X)$ is intractable, we use a restricted family of distributions for $q(Z)$ and then seek the member of the family that minimizes the KL divergence.\n"
   ]
  },
  {
   "cell_type": "markdown",
   "metadata": {
    "id": "mp7HTYfQpUsU"
   },
   "source": [
    "## Factorized Distributions\n",
    "We restrict the family of distributions that factorize the joint distribution over the latent variables i.e. $q(Z) = \\prod_{i=1}^M q_i(Z_i)$\n",
    "where $M$ denotes the number of disjoint groups of latent variables.\n",
    "\n",
    "$$ \\begin{align} \\mathcal{L}(q) &= \\int{q(Z) \\log{\\frac{p(X,Z)}{q(Z)}}dZ} \\\\\n",
    "&= \\int{\\prod_{i=1}^M q_i(Z) \\Big( \\log{p(X,Z)} - \\log{q(Z)} \\Big) dZ } \\\\\n",
    "&= \\int{q_j \\Bigg(\\int{\\log{p(X,Z)} \\prod_{i\\ne j}^M q_i dZ_i}\\Bigg) dZ_j} - \\int{q_j \\log{q_j} dZ_j } + \\text{const.} \\\\ \n",
    "&= \\int{q_j \\log \\tilde{p}(X,Z_j) dZ_j} - \\int{q_j \\log{q_j} dZ_j } + \\text{const.} \\end{align}$$\n",
    "where $\\tilde{p}(X,Z_j) = \\mathbb{E}_{i\\ne j}\\left[ \\log p(X,Z)\\right] + \\text{const.}$ representing the expection with respect to the q distributions over all variables $z_i$ for $i \\ne j$.\n",
    "\n",
    "Thus the lower bound $\\mathcal{L}(q_j)$ can be maximized by minimizing the KL divergence between $q_j(Z_j)$ and $\\tilde{p}(X,Z_j)$. Thus we obtain $\\log{q_j^*(Z_j)} = \\mathbb{E}_{i\\ne j}\\left[ \\log p(X,Z)\\right] + \\text{const.}$\n",
    "\n",
    "We determine the optimal solution over all the $z_j$ by initializing all the factors $q_j(Z_j)$ and then cycling through the factors replacing each in turn with a revised estimate given the right hand side of the above equation. We can ignore the constant term as it serves to normalize the distribution. Convergence is guaranteed because the bound is convex with respect to each of the factors $q_j(Z_j)$."
   ]
  },
  {
   "cell_type": "markdown",
   "metadata": {
    "id": "lPy0HSf5No89"
   },
   "source": [
    "## Example\n",
    "\n",
    "This is an example to demonstrate the variational approximation  and adapted from Figure 4.14 in [1]. This is also the same example used to demonstrate the Laplace approximation.\n",
    "\n",
    "Suppose $p(z) \\propto \\sigma(20z+4) \\exp{\\left(\\frac{-z^2}{2}\\right)}$ where $\\sigma(\\cdot)$ is the sigmoid function. This form is very common in classification problems and serves as a good practical example."
   ]
  },
  {
   "cell_type": "markdown",
   "metadata": {},
   "source": [
    "This is a distribution on a scalar random variable $z$ and we seek to approximate it with a Gaussian. The parameters for Gaussian distributions will be determined by variational approximation. To initialize, we introduce conjugate prior distributions for the mean $\\mu$ and precision $\\tau$ given by:\n",
    "\n",
    "$$ \\begin{align} p(\\tau) &= \\text{Gam}(\\tau|a_0,b_0) \\\\\n",
    "p(\\mu|\\tau)  &= \\mathcal{N}(\\mu|\\mu_0,(\\lambda_0 \\tau)^{-1})\\end{align}$$\n",
    "\n",
    "We assume the posterior $q(\\mu,\\tau)$ factorizes as: $q(\\mu,\\tau) = q_{\\mu}(\\mu) \\cdot q_{\\tau}(\\tau)$.\n",
    "\n",
    "$$ \\begin{align} \\mathcal{L}(q) &= \\int{q(Z) \\ln\\left\\{\\frac{p(X,Z)}{q(Z)}\\right\\}dZ} \\\\\n",
    "&= \\int{q_{\\mu} q_{\\tau} \\ln\\left\\{\\frac{p(X|\\mu,\\tau) \\cdot p(\\mu|\\tau) \\cdot p(\\tau)}{q_{\\mu} q_{\\tau}}\\right\\}dZ}  \\end{align}$$\n"
   ]
  },
  {
   "cell_type": "markdown",
   "metadata": {
    "id": "Gw4oFaoa7h0H"
   },
   "source": [
    "### Optimal distribution for $\\mu$\n",
    "$$\\begin{align}\\Rightarrow \\mathcal{L}(q_{\\mu}) &= \\int{q_{\\mu} \\int{q_{\\tau} \\log{\\left[p(X|\\mu,\\tau) \\cdot p(\\mu|\\tau) \\cdot p(\\tau)\\right]}d\\tau } d\\mu} - \\int q_{\\mu} \\log{q_{\\mu}} d\\mu - \\int q_{\\tau} \\log{q_{\\tau}} d\\tau\\\\ \n",
    "&= \\int{q_{\\mu} \\int{q_{\\tau} \\log{\\left[p(X|\\mu,\\tau) \\cdot p(\\mu|\\tau) \\right] }d\\tau} d\\mu} - \\int q_{\\mu} \\log{q_{\\mu}} d\\mu - \\int q_{\\tau} \\log{q_{\\tau}} d\\tau + \\int{q_{\\mu} q_{\\tau} \\log{p(\\tau)}}d\\tau d\\mu\\\\\n",
    "&= \\int{q_{\\mu} \\int{q_{\\tau} \\log{\\left[p(X|\\mu,\\tau) \\cdot p(\\mu|\\tau) \\right] }d\\tau} d\\mu} - \\int q_{\\mu} \\log{q_{\\mu}} d\\mu + \\text{const.}\\end{align}$$\n",
    "\n",
    "The lower bound can be maximized by maximizing the right hand side. The right hand side is also the negative KL divergence $ KL(q_{\\mu}||\\mathbb{E}_{\\tau} \\left[p(X|\\mu,\\tau) \\cdot p(\\mu|\\tau)\\right])$\n",
    "\n",
    "The factorized distribution assumption above implies that $p(\\mu|\\tau) = p(\\mu)$, we can further simplify the above expression as follows:\n",
    "\n",
    "$$ \\log q^*_{\\mu} = \\mathbb{E}_{\\tau} \\log \\left[p(X|\\mu,\\tau) \\cdot q(\\mu) \\right]) + \\text{const.}  $$\n",
    "The optimum factors can be obtained as follows:\n",
    "\n",
    "$$ \\begin{align} \\log{q_{\\mu}^*(\\mu)} &= \\mathbb{E}_{\\tau} \\left[-\\frac{\\tau}{2} \\sum_{n=1}^N (x_n-\\mu)^2 - \\frac{\\lambda_0 \\tau}{2} (\\mu-\\mu_0)^2  \\right] + \\text{const.} \\\\\n",
    "&= -\\frac{\\mathbb{E}(\\tau)}{2} \\left[ \\sum_{n=1}^N (x_n-\\mu)^2 + \\lambda_0(\\mu-\\mu_0)^2\\right] + \\text{const.} \\end{align}$$\n",
    "\n",
    "Notice that the expression is quadratic and therefore parameters of a Gaussian distribution can be determined by completing the square.\n",
    "\n",
    "$$ \\begin{align} \\mu_N &= \\frac{\\lambda_0 \\mu_0 + N\\bar{x}}{N + \\lambda_0}\\\\\n",
    "\\lambda_N &= (N+\\lambda_0) \\mathbb{E}(\\tau)\\end{align}$$"
   ]
  },
  {
   "cell_type": "markdown",
   "metadata": {
    "id": "-5ciwM418vEG"
   },
   "source": [
    "### Optimal distribution for $\\tau$\n",
    "$$\\begin{align}\\Rightarrow \\mathcal{L}(q_{\\tau}) &= \\int{q_{\\tau} \\int{q_{\\mu} \\log{\\left[p(X|\\mu,\\tau) \\cdot p(\\mu|\\tau) \\cdot p(\\tau)\\right]}d\\mu } d\\tau} - \\int q_{\\mu} \\log{q_{\\mu}} d\\mu - \\int q_{\\tau} \\log{q_{\\tau}} d\\tau\\\\ \n",
    "&= \\int{q_{\\tau} \\int{q_{\\mu} \\log{\\left[p(X|\\mu,\\tau) \\cdot p(\\mu|\\tau) \\cdot p(\\tau) \\right] }d\\mu} d\\tau} - \\int q_{\\tau} \\log{q_{\\tau}} d\\tau - \\int q_{\\mu} \\log{q_{\\mu}} d\\mu + \\int{q_{\\mu} q_{\\tau} \\log{p(\\mu)}}d\\tau d\\mu\\\\\n",
    "&= \\int{q_{\\mu} \\int{q_{\\tau} \\log{\\left[p(X|\\mu,\\tau) \\cdot p(\\mu|\\tau) \\cdot p(\\tau) \\right] }d\\mu} d\\tau} - \\int q_{\\tau} \\log{q_{\\tau}} d\\tau + \\text{const.}\\end{align}$$\n",
    "\n",
    "The lower bound can be maximized by maximizing the right hand side. The right hand side is also the negative KL divergence $ KL(q_{\\tau}||\\mathbb{E}_{\\mu} \\left[p(X|\\mu,\\tau) \\cdot p(\\mu|\\tau) \\cdot p(\\tau)\\right])$\n",
    "\n",
    "From the factorized distribution assumption above, we can further simplify the above expression as follows:\n",
    "\n",
    "$$ \\log q^*_{\\tau} = \\mathbb{E}_{\\mu} \\log \\left[p(X|\\mu,\\tau) \\cdot q(\\mu) \\cdot q(\\tau)\\right]) + \\text{const.} $$\n",
    "\n",
    "The optimum factors can be obtained as follows:\n",
    "\n",
    "$$ \\begin{align} \\log{q_{\\tau}^*} &= \\mathbb{E}_{\\mu} \\left[\\frac{N}{2}\\log{\\tau} -\\frac{\\tau}{2} \\sum_{n=1}^N (x_n-\\mu)^2 - \\frac{\\lambda_0 \\tau}{2} (\\mu-\\mu_0)^2  + (a_0-1)\\log{\\tau} - b \\tau\\right] + \\text{const.} \\\\\n",
    "&= \\frac{N}{2}\\log{\\tau} + (a_0-1)\\log{\\tau} - b \\tau - \\frac{\\tau}{2} \\mathbb{E}_{\\mu}\\left[ \\sum_{n=1}^N (x_n-\\mu)^2 + \\lambda_0(\\mu-\\mu_0)^2\\right] + \\text{const.} \\end{align}$$\n",
    "\n",
    "This implies that $q_{\\tau}$ is a Gamma distribution with parameters:\n",
    "\n",
    "$$ \\begin{align} a_N &= a_0 + \\frac{N}{2}\\\\\n",
    "b_N &= b_0 + \\frac{1}{2}\\mathbb{E}_{\\mu}\\left[ \\sum_{n=1}^N (x_n-\\mu)^2 + \\lambda_0(\\mu-\\mu_0)^2\\right] \\\\\n",
    "&= b_0 + \\frac{\\lambda_0 \\mu_0^2}{2} + \\frac{1}{2} \\left[ \\sum_{n=1}^N{x_n^2} - 2 (N\\bar{x}+\\lambda_0\\mu_0) \\mathbb{E}(\\mu)+(N+\\lambda_0)\\mathbb{E}(\\mu^2) \\right]\\end{align}$$"
   ]
  },
  {
   "cell_type": "markdown",
   "metadata": {},
   "source": [
    "We iterate on computing optimal values of $\\mu$ and $\\tau$ till convergence to get the optimal parameters for the posterior distribution."
   ]
  },
  {
   "cell_type": "markdown",
   "metadata": {
    "id": "wI15sW9DDqFP"
   },
   "source": [
    "## Back to the Example"
   ]
  },
  {
   "cell_type": "code",
   "execution_count": 10,
   "metadata": {
    "colab": {
     "base_uri": "https://localhost:8080/",
     "height": 262
    },
    "id": "tLbVmXFPOjmT",
    "outputId": "79df5297-2007-4064-c2bd-6ef666482813"
   },
   "outputs": [],
   "source": [
    "import numpy as np\n",
    "from scipy.integrate import trapz,cumtrapz\n",
    "from scipy.stats import norm\n",
    "import matplotlib.pyplot as plt\n",
    "import matplotlib\n",
    "%matplotlib inline\n",
    "\n",
    "from numpy.random import rand\n",
    "\n",
    "def sigmoid(x):\n",
    "    den = 1.0+np.exp(-x)\n",
    "    return 1.0/den\n",
    "\n",
    "def p_z(z):\n",
    "    p = np.exp(-np.power(z,2)/2)*sigmoid(20*z+4)\n",
    "    sum_p = trapz(p,z) ## normalize for plotting\n",
    "    return p,p/sum_p\n",
    "\n",
    "## Laplace Approximation\n",
    "def findMode(z_init,max_iter = 25,tol = 1E-6):\n",
    "    iter = 0\n",
    "    z_next = np.finfo('d').max\n",
    "    z_cur = z_init\n",
    "    while (iter < max_iter and np.abs(z_next-z_cur) > tol):\n",
    "        if iter > 0:\n",
    "            z_cur = z_next\n",
    "        y     = z_cur - 20*(1-sigmoid(20*z_cur+4))\n",
    "        der_y = 1 + 400*sigmoid(20*z_cur+4)*(1-sigmoid(20*z_cur+4))\n",
    "        z_next = z_cur - y/der_y\n",
    "        iter = iter+1\n",
    "    return z_next\n",
    "\n",
    "def getHessian(z):\n",
    "    sig_x = sigmoid(20*z+4)\n",
    "    return 400*sig_x*(1-sig_x) + 1\n",
    "\n",
    "## Variational Approximation\n",
    "def getMu(X,E_tau,mu0,lambda0):\n",
    "    N = float(len(X))\n",
    "    mu_N = (lambda0*mu0 + np.sum(X))/(N+lambda0)\n",
    "    lambda_N = (N+lambda0)*E_tau\n",
    "    return mu_N,lambda_N\n",
    "\n",
    "def getTau(X,mu_N,lambda_N,mu0,lambda0,a0,b0):\n",
    "    N = float(len(X))\n",
    "    a_N = a0 + N/2\n",
    "    b_N = b0 + 0.5*lambda0*np.power(mu0,2) + 0.5*(np.sum(np.power(X,2)) - 2*mu_N*(N+lambda0)*np.mean(X))\n",
    "    if lambda_N != 0:\n",
    "        b_N = b_N + 0.5*(N+lambda0)*(1/lambda_N + np.power(mu_N,2))\n",
    "    return a_N,b_N\n",
    "    \n",
    "def VariationalApproximation(X,mu0,lambda0,a0,b0,max_iter=25,tol=1E-6):\n",
    "    count = 0\n",
    "    E_tau = 0\n",
    "    if b0 != 0:\n",
    "        E_tau = a0/b0\n",
    "    mu1 = mu0\n",
    "    lambda1 = lambda0\n",
    "    a1 = a0\n",
    "    b1 = b0\n",
    "    post_prob = []\n",
    "    while count < max_iter:\n",
    "        count = count+1\n",
    "        mu_N,lambda_N = getMu(X,E_tau,mu0,lambda0)\n",
    "        a_N,b_N = getTau(X,mu_N,lambda_N,mu0,lambda0,a0,b0)\n",
    "        max_del = np.max(np.array([np.abs(mu_N-mu1),np.abs(lambda_N-lambda1),np.abs(a_N-a1),np.abs(b_N-b1)]))\n",
    "#         print(count,max_del)\n",
    "        if max_del <= tol:\n",
    "            print(\"Converged after Iteration:\"+str(count))\n",
    "            break\n",
    "        mu1 = mu_N\n",
    "        lambda1 = lambda_N\n",
    "        a1 = a_N\n",
    "        b1 = b_N\n",
    "        E_tau = a1/b1\n",
    "    return mu_N,lambda_N,a_N,b_N\n",
    "\n",
    "def sampleData(z,pzn,N):\n",
    "    x = np.zeros((N,))\n",
    "    cdf = cumtrapz(pzn,z,initial=0)\n",
    "    for i in range(N):\n",
    "        rnd = rand()\n",
    "        dif = np.abs(cdf-rnd)\n",
    "        idx = np.where(dif == np.min(dif))[0]\n",
    "        x[i] = z[idx]\n",
    "    return x"
   ]
  },
  {
   "cell_type": "code",
   "execution_count": 11,
   "metadata": {},
   "outputs": [],
   "source": [
    "z = np.linspace(-10,10,10000)\n",
    "pz,pzn = p_z(z)\n",
    "\n",
    "## Get Laplace distribution\n",
    "z0 = findMode(0)\n",
    "A = getHessian(z0)\n",
    "z0_idx = np.where(np.abs(z-z0) == np.min(np.abs(z-z0)))[0]\n",
    "p_z0 = pzn[z0_idx]\n",
    "\n",
    "## Get approx Gaussian distribution\n",
    "q_z_laplace = norm.pdf(z, z0, 1/np.sqrt(A))"
   ]
  },
  {
   "cell_type": "code",
   "execution_count": 12,
   "metadata": {},
   "outputs": [
    {
     "name": "stdout",
     "output_type": "stream",
     "text": [
      "Converged after Iteration:6\n",
      "mu_opt     =  0.6656897689768977\n",
      "lambda_opt =  24425.335351142647\n",
      "a_opt      =  5000.0\n",
      "b_opt      =  2047.0548011395454\n"
     ]
    }
   ],
   "source": [
    "z_sample = sampleData(z,pzn,10000)\n",
    "mu0=0\n",
    "lambda0 = 0\n",
    "a0=0\n",
    "b0=0\n",
    "mu_N,lambda_N,a_N,b_N = VariationalApproximation(z_sample,mu0,lambda0,a0,b0)\n",
    "print('mu_opt     = ',mu_N)\n",
    "print('lambda_opt = ',lambda_N)\n",
    "print('a_opt      = ',a_N)\n",
    "print('b_opt      = ',b_N)\n",
    "q_z_va = norm.pdf(z, mu_N, np.sqrt(b_N/a_N))"
   ]
  },
  {
   "cell_type": "code",
   "execution_count": 13,
   "metadata": {},
   "outputs": [
    {
     "data": {
      "image/png": "[encoded data removed]",
      "text/plain": [
       "<Figure size 360x216 with 1 Axes>"
      ]
     },
     "metadata": {
      "needs_background": "light"
     },
     "output_type": "display_data"
    }
   ],
   "source": [
    "fig,ax = plt.subplots(1,1,figsize=(5,3))\n",
    "ax.cla()\n",
    "ax.plot(z,pzn,color=\"orange\")\n",
    "ax.fill_between(z,pzn, 0,\n",
    "                 facecolor=\"orange\", # The fill color\n",
    "                 color='orange',       # The outline color\n",
    "                 alpha=0.2)          # Transparency of the fill\n",
    "#ax.axvline(x=z0)#,ylim=0,ymax=0.7)\n",
    "ax.vlines(z0, ymin=0, ymax=p_z0,linestyles='dotted')\n",
    "ax.plot(z,q_z_laplace,'r')\n",
    "ax.plot(z,q_z_va,'g')\n",
    "ax.set_xlim([-2,4]);\n",
    "ax.set_ylim([0,0.8]);\n",
    "ax.set_yticks([0,0.2,0.4,0.6,0.8]);\n",
    "ax.legend(['Original','Laplace','Variational'])\n",
    "ax.set_title('Laplace & Variational approximations');"
   ]
  },
  {
   "cell_type": "markdown",
   "metadata": {
    "id": "yMCESPO6OEVt"
   },
   "source": [
    "## References\n",
    "1. Bishop, Christopher M. 2006. Pattern Recognition and Machine Learning. Springer."
   ]
  }
 ],
 "metadata": {
  "colab": {
   "name": "VariationalApproximation.ipynb",
   "provenance": []
  },
  "kernelspec": {
   "display_name": "Python 3",
   "language": "python",
   "name": "python3"
  },
  "language_info": {
   "codemirror_mode": {
    "name": "ipython",
    "version": 3
   },
   "file_extension": ".py",
   "mimetype": "text/x-python",
   "name": "python",
   "nbconvert_exporter": "python",
   "pygments_lexer": "ipython3",
   "version": "3.7.3"
  }
 },
 "nbformat": 4,
 "nbformat_minor": 1
}
