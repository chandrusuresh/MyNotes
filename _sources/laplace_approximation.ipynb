{
 "cells": [
  {
   "cell_type": "markdown",
   "metadata": {
    "extensions": {
     "jupyter_dashboards": {
      "version": 1,
      "views": {
       "grid_default": {},
       "report_default": {}
      }
     }
    }
   },
   "source": [
    "# The Laplace Approximation\n",
    "The laplace approximation is a widely used framework that finds a Gaussian approximation to a probability density definted over a set of continuous variables. It is especially useful when applying Bayesian principles to logistic regression where computing integral of posterior distributions becomes intractable.\n",
    "\n",
    "![Laplace Approximation](./img/LaplaceApproximation.png)\n",
    "\n",
    "## Basic Idea\n",
    "Consider a continuous random variable $z \\in \\mathcal{R}^D$ with probability distribution given by $p(z) = \\frac{1}{Z}f(z)$ where $Z = \\int{f(z) dz}$ is the normalizing constant and need not be known.\n",
    "\n",
    "In the Laplace approximation, the goal is to `find a Gaussian distribution q(z) centered on a mode of the p(z)`. The mode can be computed by determining the value of $z=z_0$ where $\\frac{dp(z)}{dz} = 0$.\n",
    "\n",
    "Note that if $p(z)$ is `multi-modal`, the laplace approximation is only precise in the neighborhood of one of its many modes.\n",
    "\n",
    "Let $q(z) \\sim \\mathcal{N}(z_0,A^{-1})$ where $A$ is the precision matrix. Note: Precision matrix is the inverse of covariance matrix and is often employed for computational reasons.\n",
    "\n",
    "$$ \\begin{align} q_z &= \\frac{\\sqrt{|A|}}{(2\\pi)^{D/2}} \\exp \\{-\\frac{1}{2}(z-z_0)^T A (z-z_0)\\} \\\\ \\Rightarrow \\ln{q_z} &= \\frac{1}{2} \\left(\\ln{|A|} - D \\ln{2\\pi}\\right) - \\frac{1}{2}(z-z_0)^T A(z-z_0) \\\\\n",
    "&= \\ln{f_{z0}} - \\frac{1}{2}A(z-z_0)^2\\end{align}$$\n",
    "\n",
    "Note that this is a Taylor series expansion for $p_z$ at a mode where $\\frac{d \\ln p(z)}{dz} = 0$ and $\\frac{d^2 \\ln p(z)}{dz^2} = -A < 0 \\Rightarrow A > 0$.\n",
    "\n",
    "In summary, the laplace approximation involves evaluating the mode $z_0$ and the Hessian $A$ at $z_0$. So if f(z) has an intractable but analytical form, the mode can be found by some form of numerical optimization algorithm. Note that the normalization constant $Z$ does not need to be known to apply this method."
   ]
  },
  {
   "cell_type": "markdown",
   "metadata": {},
   "source": [
    "## Example\n",
    "This is an example to demonstrate the Laplace approximation and adapted from Figure 4.14 in [1].\n",
    "\n",
    "Suppose $p(z) \\propto \\sigma(20z+4) \\exp{\\left(\\frac{-z^2}{2}\\right)}$ where $\\sigma(\\cdot)$ is the sigmoid function. This form is very common in classification problems and serves as a good practical example.\n",
    "\n",
    "To compute the mode $z_0$ & Hessian $-A$,\n",
    "\n",
    "$$ \\begin{align} \\frac{d}{dz}\\ln p_z &\\propto \\frac{d}{dz}\\ln \\sigma(\\cdot) + \\frac{d}{dz}\\ln \\exp{\\left(\\frac{-z^2}{2}\\right)} \\\\\n",
    "&= 20 (1-\\sigma(\\cdot)) - z \\\\\n",
    "&= 0 \\text{  iff  } z_0 = 20(1-\\sigma(20 z_0 + 4))\\end{align}$$\n",
    "\n",
    "The above expression to determine $z_0$ is nonlinear and can be solved by Newton's method.\n",
    "Let $y(z_0) = z_0 - 20(1-\\sigma(20 z_0 + 4))$. To find $z_0$ such that $y=0$, we start with an initial guess $z_{0,0}$ and iterate the following equation till convergence.\n",
    "$z_{0,k+1} = z_{0,k} - \\left(y'(z_{0,k})\\right)^{-1} y(z_{0,k})$. The convergence criteria can be either set to a fixed maximum number of iterations or till $|z_{0,k+1} - z_{0,k}| \\le \\epsilon$ for some small $\\epsilon$.\n",
    "\n",
    "The Hessian is expressed as:\n",
    "\n",
    "$$ \\begin{align} \\frac{d^2}{dz^2}\\ln p_z &\\propto \\frac{d}{dz}\\frac{d}{dz}\\ln p_z  \\\\\n",
    "&= -400\\sigma(\\cdot)(1-\\sigma(\\cdot)) - 1 \\\\\n",
    "\\Rightarrow A &= -\\Bigg(\\frac{d^2}{dz^2}\\ln p_z\\Bigg)\\Bigg\\vert_{z=z_0} = 400\\sigma(20 z_0 + 4)(1-\\sigma(20 z_0 + 4)) + 1\\end{align}$$"
   ]
  },
  {
   "cell_type": "code",
   "execution_count": 1,
   "metadata": {},
   "outputs": [],
   "source": [
    "import numpy as np\n",
    "from scipy.integrate import trapz\n",
    "from scipy.stats import norm\n",
    "import matplotlib.pyplot as plt\n",
    "import matplotlib\n",
    "# matplotlib.rcParams['text.usetex'] = True\n",
    "# matplotlib.rcParams['text.latex.unicode'] = True\n",
    "%matplotlib inline\n",
    "\n",
    "\n",
    "def sigmoid(x):\n",
    "    den = 1.0+np.exp(-x)\n",
    "    return 1.0/den\n",
    "\n",
    "def p_z(z):\n",
    "    p = np.exp(-np.power(z,2)/2)*sigmoid(20*z+4)\n",
    "    sum_p = trapz(p,z) ## normalize for plotting\n",
    "    return p,p/sum_p\n",
    "\n",
    "def findMode(z_init,max_iter = 25,tol = 1E-6):\n",
    "    iter = 0\n",
    "    z_next = np.finfo('d').max\n",
    "    z_cur = z_init\n",
    "    while (iter < max_iter and np.abs(z_next-z_cur) > tol):\n",
    "        if iter > 0:\n",
    "            z_cur = z_next\n",
    "        y     = z_cur - 20*(1-sigmoid(20*z_cur+4))\n",
    "        der_y = 1 + 400*sigmoid(20*z_cur+4)*(1-sigmoid(20*z_cur+4))\n",
    "        z_next = z_cur - y/der_y\n",
    "        iter = iter+1\n",
    "#         print(\"Iter-\"+str(iter)+\":\"+str(z_next))\n",
    "    return z_next\n",
    "\n",
    "def getHessian(z):\n",
    "    sig_x = sigmoid(20*z+4)\n",
    "    return 400*sig_x*(1-sig_x) + 1"
   ]
  },
  {
   "cell_type": "code",
   "execution_count": 2,
   "metadata": {},
   "outputs": [
    {
     "data": {
      "image/png": "[encoded data removed]",
      "text/plain": [
       "<Figure size 288x216 with 1 Axes>"
      ]
     },
     "metadata": {
      "needs_background": "light"
     },
     "output_type": "display_data"
    }
   ],
   "source": [
    "z = np.linspace(-10,10,100000)\n",
    "pz,pzn = p_z(z)\n",
    "\n",
    "## Mode & Precision matrix\n",
    "z0 = findMode(0)\n",
    "A = getHessian(z0)\n",
    "z0_idx = np.where(np.abs(z-z0) == np.min(np.abs(z-z0)))[0]\n",
    "p_z0 = pzn[z0_idx]\n",
    "\n",
    "dp = np.gradient(pzn,z[1]-z[0])\n",
    "d2p = np.gradient(dp,z[1]-z[0])\n",
    "\n",
    "## Get approx Gaussian distribution\n",
    "q_z = norm.pdf(z, z0, 1/np.sqrt(A))\n",
    "fig,ax = plt.subplots(1,1,figsize=(4,3))\n",
    "ax.cla()\n",
    "ax.plot(z,pzn,color=\"orange\")\n",
    "ax.fill_between(z,pzn, 0,\n",
    "                 facecolor=\"orange\", # The fill color\n",
    "                 color='orange',       # The outline color\n",
    "                 alpha=0.2)          # Transparency of the fill\n",
    "#ax.axvline(x=z0)#,ylim=0,ymax=0.7)\n",
    "ax.vlines(z0, ymin=0, ymax=p_z0,linestyles='dotted')\n",
    "ax.plot(z,q_z,'r')\n",
    "ax.set_xlim([-2,4]);\n",
    "ax.set_ylim([0,0.8]);\n",
    "ax.set_yticks([0,0.2,0.4,0.6,0.8]);\n",
    "ax.legend(['p_z','N('+str(np.round(z0,4))+','+str(np.round(1/np.sqrt(A),3))+')'])\n",
    "ax.set_title('p(z) with its Laplace Approximation');"
   ]
  },
  {
   "cell_type": "markdown",
   "metadata": {},
   "source": [
    "## References\n",
    "[1]: Bishop, Christopher M. 2006. Pattern Recognition and Machine Learning. Springer."
   ]
  }
 ],
 "metadata": {
  "extensions": {
   "jupyter_dashboards": {
    "activeView": "grid_default",
    "version": 1,
    "views": {
     "grid_default": {
      "cellMargin": 10,
      "defaultCellHeight": 20,
      "maxColumns": 12,
      "name": "grid",
      "type": "grid"
     },
     "report_default": {
      "name": "report",
      "type": "report"
     }
    }
   }
  },
  "kernelspec": {
   "display_name": "Python 3",
   "language": "python",
   "name": "python3"
  },
  "language_info": {
   "codemirror_mode": {
    "name": "ipython",
    "version": 3
   },
   "file_extension": ".py",
   "mimetype": "text/x-python",
   "name": "python",
   "nbconvert_exporter": "python",
   "pygments_lexer": "ipython3",
   "version": "3.7.3"
  },
  "widgets": {
   "application/vnd.jupyter.widget-state+json": {
    "state": {},
    "version_major": 2,
    "version_minor": 0
   }
  }
 },
 "nbformat": 4,
 "nbformat_minor": 4
}
